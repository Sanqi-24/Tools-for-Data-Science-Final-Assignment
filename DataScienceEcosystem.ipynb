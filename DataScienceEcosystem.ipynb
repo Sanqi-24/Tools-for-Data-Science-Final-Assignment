{
 "cells": [
  {
   "cell_type": "markdown",
   "id": "61dfda04-000a-4682-b6bc-9720e86d7146",
   "metadata": {},
   "source": [
    "Exercise 2: Create markdown cell with title of the notebook\n",
    "# Data Science Tools and Ecosystem"
   ]
  },
  {
   "cell_type": "markdown",
   "id": "bd17b7de-e13e-4b67-b6a7-85a095e02031",
   "metadata": {
    "tags": []
   },
   "source": [
    "# Data Science Tools and Ecosystem"
   ]
  },
  {
   "cell_type": "markdown",
   "id": "1391a34d-2169-4932-8eaf-756638a4601e",
   "metadata": {},
   "source": [
    "Exercise 3 - Create a markdown cell for an introduction\n",
    "In this notebook, Data Science Tools and Ecosystem are summarized."
   ]
  },
  {
   "cell_type": "markdown",
   "id": "127cd6b3-78b3-4280-84ac-6621d8d0ce0c",
   "metadata": {},
   "source": [
    "In this notebook, Data Science Tools and Ecosystem are summarized."
   ]
  },
  {
   "cell_type": "markdown",
   "id": "3417cea7-a46c-4ff7-aa08-551def6a8dc1",
   "metadata": {},
   "source": [
    "Exercise 10 - Insert a markdown cell to list Objectives\n",
    "**Objectives:**\n",
    "- List popular languages for Data Science\n",
    "- List commonly used libraries for Data Science\n",
    "- Table of Data Science tools"
   ]
  },
  {
   "cell_type": "markdown",
   "id": "c04fe017-392b-4a0c-a9af-e4344b0a34fd",
   "metadata": {},
   "source": [
    "**Objectives:**\n",
    "- List popular languages for Data Science\n",
    "- List commonly used libraries for Data Science\n",
    "- Table of Data Science tools"
   ]
  },
  {
   "cell_type": "markdown",
   "id": "955ae233-1402-46f8-815a-8f7aea026d12",
   "metadata": {},
   "source": [
    "Exercise 4 - Create a markdown cell to list data science languages\n",
    "Some of the popular languages that Data Scientists use are:\n",
    "1. Python\n",
    "2. R\n",
    "3. Java"
   ]
  },
  {
   "cell_type": "markdown",
   "id": "b1353937-9338-4ab3-bd3f-6a5b7b326de8",
   "metadata": {
    "tags": []
   },
   "source": [
    "Some of the popular languages that Data Scientists use are:\n",
    "1. Python\n",
    "2. R\n",
    "3. Java"
   ]
  },
  {
   "cell_type": "markdown",
   "id": "4e5020cc-c315-4270-94bb-541e3f7ad503",
   "metadata": {},
   "source": [
    "Exercise 5 - Create a markdown cell to list data science libraries\n",
    "Some of the commonly used libraries used by Data Scientists include:\n",
    "1. Pandas\n",
    "2. Numpy\n",
    "3. dplyr"
   ]
  },
  {
   "cell_type": "markdown",
   "id": "fe4ee2f6-8091-441d-a707-431dad68ec24",
   "metadata": {},
   "source": [
    "Some of the commonly used libraries used by Data Scientists include:\n",
    "1. Pandas\n",
    "2. Numpy\n",
    "3. dplyr"
   ]
  },
  {
   "cell_type": "markdown",
   "id": "39fc2ee5-189c-4623-b127-6916e273bf10",
   "metadata": {},
   "source": [
    "Exercise 6 - Create a markdown cell with a table of Data Science tools\n",
    "| Data Science Tools |\n",
    "| ------------------ |\n",
    "| IDE |\n",
    "| IBM Watson Studio Desktop |\n",
    "| GitHub |"
   ]
  },
  {
   "cell_type": "markdown",
   "id": "de1bc6a8-17ff-43d2-a3b3-d89d3f9c8963",
   "metadata": {},
   "source": [
    "| Data Science Tools |\n",
    "| ------------------ |\n",
    "| IDE |\n",
    "| IBM Watson Studio Desktop |\n",
    "| GitHub |"
   ]
  },
  {
   "cell_type": "markdown",
   "id": "566c040f-b53d-401d-8a21-ebffddb8d9e3",
   "metadata": {},
   "source": [
    "Exercise 7 - Create a markdown cell introducing arithmetic expression examples\n",
    "### Below are a few examples of evaluating arithmetic expressions in Python"
   ]
  },
  {
   "cell_type": "markdown",
   "id": "a405123d-5655-4a4b-ba4e-cc1a1e46b519",
   "metadata": {},
   "source": [
    "### Below are a few examples of evaluating arithmetic expressions in Python"
   ]
  },
  {
   "cell_type": "code",
   "execution_count": 4,
   "id": "fb4d6ce8-200c-4cf5-acc2-0b0ceb311d80",
   "metadata": {
    "tags": []
   },
   "outputs": [
    {
     "data": {
      "text/plain": [
       "17"
      ]
     },
     "execution_count": 4,
     "metadata": {},
     "output_type": "execute_result"
    }
   ],
   "source": [
    "Exercise 8 - Create a code cell to multiply and add numbers\n",
    "#This a simple arithmetic expression to mutiply then add integers\n",
    "(3*4)+5"
   ]
  },
  {
   "cell_type": "code",
   "execution_count": 1,
   "id": "3a10057a-4c9e-43b0-a7a6-a46daf625f48",
   "metadata": {
    "tags": []
   },
   "outputs": [
    {
     "data": {
      "text/plain": [
       "3"
      ]
     },
     "execution_count": 1,
     "metadata": {},
     "output_type": "execute_result"
    }
   ],
   "source": [
    "#This will convert 200 minutes to hours by diving by 60\n",
    "200//60"
   ]
  },
  {
   "cell_type": "markdown",
   "id": "d99d8fb5-3bba-47e6-a304-08fe101900df",
   "metadata": {},
   "source": [
    "Exercise 11 - Create a markdown cell to indicate the Author's name\n",
    "## Aurthor\n",
    "Li Lingxiao"
   ]
  },
  {
   "cell_type": "markdown",
   "id": "a7025507-c05b-4cb3-a5cf-681ecd75853a",
   "metadata": {},
   "source": [
    "## Aurthor\n",
    "Li Lingxiao"
   ]
  }
 ],
 "metadata": {
  "kernelspec": {
   "display_name": "Python",
   "language": "python",
   "name": "conda-env-python-py"
  },
  "language_info": {
   "codemirror_mode": {
    "name": "ipython",
    "version": 3
   },
   "file_extension": ".py",
   "mimetype": "text/x-python",
   "name": "python",
   "nbconvert_exporter": "python",
   "pygments_lexer": "ipython3",
   "version": "3.7.12"
  }
 },
 "nbformat": 4,
 "nbformat_minor": 5
}
